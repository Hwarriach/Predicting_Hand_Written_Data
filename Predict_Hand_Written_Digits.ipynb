{
  "nbformat": 4,
  "nbformat_minor": 0,
  "metadata": {
    "colab": {
      "name": "Predict_Hand_Written_Digits.ipynb",
      "provenance": [],
      "authorship_tag": "ABX9TyNuEa1Np+TbA4uYZYxZMMun",
      "include_colab_link": true
    },
    "kernelspec": {
      "name": "python3",
      "display_name": "Python 3"
    },
    "language_info": {
      "name": "python"
    }
  },
  "cells": [
    {
      "cell_type": "markdown",
      "metadata": {
        "id": "view-in-github",
        "colab_type": "text"
      },
      "source": [
        "<a href=\"https://colab.research.google.com/github/Hwarriach/Predicting_Hand_Written_Data/blob/main/Predict_Hand_Written_Digits.ipynb\" target=\"_parent\"><img src=\"https://colab.research.google.com/assets/colab-badge.svg\" alt=\"Open In Colab\"/></a>"
      ]
    },
    {
      "cell_type": "code",
      "execution_count": 32,
      "metadata": {
        "id": "0vFDSp5UFX74"
      },
      "outputs": [],
      "source": [
        "# Import the dependencies\n",
        "\n",
        "import pandas as pd\n",
        "import numpy as np\n",
        "import matplotlib.pyplot as plt\n",
        "from sklearn.metrics import classification_report\n",
        "from sklearn.datasets import load_digits"
      ]
    },
    {
      "cell_type": "code",
      "source": [
        "digits = load_digits()"
      ],
      "metadata": {
        "id": "z9XIXVveF4rK"
      },
      "execution_count": 3,
      "outputs": []
    },
    {
      "cell_type": "code",
      "source": [
        "#Exploring Dataset\n",
        "\n",
        "dir(digits)"
      ],
      "metadata": {
        "colab": {
          "base_uri": "https://localhost:8080/"
        },
        "id": "i3ATP8DGGAy4",
        "outputId": "75c0bbfd-6a93-4677-b3ff-79f6dd89508a"
      },
      "execution_count": 4,
      "outputs": [
        {
          "output_type": "execute_result",
          "data": {
            "text/plain": [
              "['DESCR', 'data', 'feature_names', 'frame', 'images', 'target', 'target_names']"
            ]
          },
          "metadata": {},
          "execution_count": 4
        }
      ]
    },
    {
      "cell_type": "code",
      "source": [
        "digits.data[0]"
      ],
      "metadata": {
        "colab": {
          "base_uri": "https://localhost:8080/"
        },
        "id": "QTFExPQoGFv4",
        "outputId": "8cb52b05-40b3-4e92-b3bd-fe693ef9a767"
      },
      "execution_count": 5,
      "outputs": [
        {
          "output_type": "execute_result",
          "data": {
            "text/plain": [
              "array([ 0.,  0.,  5., 13.,  9.,  1.,  0.,  0.,  0.,  0., 13., 15., 10.,\n",
              "       15.,  5.,  0.,  0.,  3., 15.,  2.,  0., 11.,  8.,  0.,  0.,  4.,\n",
              "       12.,  0.,  0.,  8.,  8.,  0.,  0.,  5.,  8.,  0.,  0.,  9.,  8.,\n",
              "        0.,  0.,  4., 11.,  0.,  1., 12.,  7.,  0.,  0.,  2., 14.,  5.,\n",
              "       10., 12.,  0.,  0.,  0.,  0.,  6., 13., 10.,  0.,  0.,  0.])"
            ]
          },
          "metadata": {},
          "execution_count": 5
        }
      ]
    },
    {
      "cell_type": "code",
      "source": [
        "# Printing corresponding image of the above array\n",
        "\n",
        "plt.gray()\n",
        "plt.matshow(digits.images[0])"
      ],
      "metadata": {
        "colab": {
          "base_uri": "https://localhost:8080/",
          "height": 310
        },
        "id": "2LSiwGWtGKPI",
        "outputId": "6ba9a669-ae38-4258-905e-4077230baa58"
      },
      "execution_count": 7,
      "outputs": [
        {
          "output_type": "execute_result",
          "data": {
            "text/plain": [
              "<matplotlib.image.AxesImage at 0x7f34303e8d90>"
            ]
          },
          "metadata": {},
          "execution_count": 7
        },
        {
          "output_type": "display_data",
          "data": {
            "text/plain": [
              "<Figure size 432x288 with 0 Axes>"
            ]
          },
          "metadata": {}
        },
        {
          "output_type": "display_data",
          "data": {
            "text/plain": [
              "<Figure size 288x288 with 1 Axes>"
            ],
            "image/png": "[encoded data removed]"
          },
          "metadata": {
            "needs_background": "light"
          }
        }
      ]
    },
    {
      "cell_type": "code",
      "source": [
        "# Printing first 5 samples\n",
        "\n",
        "plt.gray()\n",
        "for i in range(5):\n",
        "  plt.matshow(digits.images[i])"
      ],
      "metadata": {
        "colab": {
          "base_uri": "https://localhost:8080/",
          "height": 1000
        },
        "id": "qnOq5JoFGbl6",
        "outputId": "cf49eaf5-e67c-4c36-f54d-ae9e04948327"
      },
      "execution_count": 9,
      "outputs": [
        {
          "output_type": "display_data",
          "data": {
            "text/plain": [
              "<Figure size 432x288 with 0 Axes>"
            ]
          },
          "metadata": {}
        },
        {
          "output_type": "display_data",
          "data": {
            "text/plain": [
              "<Figure size 288x288 with 1 Axes>"
            ],
            "image/png": "[encoded data removed]"
          },
          "metadata": {
            "needs_background": "light"
          }
        },
        {
          "output_type": "display_data",
          "data": {
            "text/plain": [
              "<Figure size 288x288 with 1 Axes>"
            ],
            "image/png": "[encoded data removed]"
          },
          "metadata": {
            "needs_background": "light"
          }
        },
        {
          "output_type": "display_data",
          "data": {
            "text/plain": [
              "<Figure size 288x288 with 1 Axes>"
            ],
            "image/png": "[encoded data removed]"
          },
          "metadata": {
            "needs_background": "light"
          }
        },
        {
          "output_type": "display_data",
          "data": {
            "text/plain": [
              "<Figure size 288x288 with 1 Axes>"
            ],
            "image/png": "[encoded data removed]"
          },
          "metadata": {
            "needs_background": "light"
          }
        },
        {
          "output_type": "display_data",
          "data": {
            "text/plain": [
              "<Figure size 288x288 with 1 Axes>"
            ],
            "image/png": "[encoded data removed]"
          },
          "metadata": {
            "needs_background": "light"
          }
        }
      ]
    },
    {
      "cell_type": "code",
      "source": [
        "digits.target[0:5]"
      ],
      "metadata": {
        "colab": {
          "base_uri": "https://localhost:8080/"
        },
        "id": "BEBvGCnAGtNw",
        "outputId": "4e990323-d104-47c0-b8ab-bddfb1751ada"
      },
      "execution_count": 10,
      "outputs": [
        {
          "output_type": "execute_result",
          "data": {
            "text/plain": [
              "array([0, 1, 2, 3, 4])"
            ]
          },
          "metadata": {},
          "execution_count": 10
        }
      ]
    },
    {
      "cell_type": "code",
      "source": [
        "from sklearn.model_selection import train_test_split"
      ],
      "metadata": {
        "id": "yYFUXq5MG2Ub"
      },
      "execution_count": 11,
      "outputs": []
    },
    {
      "cell_type": "code",
      "source": [
        "X_train, X_test, y_train, y_test = train_test_split(digits.data, digits.target, test_size=0.2)"
      ],
      "metadata": {
        "id": "5D87qYJMHFY6"
      },
      "execution_count": 13,
      "outputs": []
    },
    {
      "cell_type": "code",
      "source": [
        "len(X_train)"
      ],
      "metadata": {
        "colab": {
          "base_uri": "https://localhost:8080/"
        },
        "id": "Bd4SEkkFHmQK",
        "outputId": "1fd2b6dc-b6a4-4d0e-c558-631c0e6725bf"
      },
      "execution_count": 14,
      "outputs": [
        {
          "output_type": "execute_result",
          "data": {
            "text/plain": [
              "1437"
            ]
          },
          "metadata": {},
          "execution_count": 14
        }
      ]
    },
    {
      "cell_type": "code",
      "source": [
        "len(X_test)"
      ],
      "metadata": {
        "colab": {
          "base_uri": "https://localhost:8080/"
        },
        "id": "jl2oNqkOHpu6",
        "outputId": "003965ff-3268-48dd-b7fe-70ae70f18780"
      },
      "execution_count": 15,
      "outputs": [
        {
          "output_type": "execute_result",
          "data": {
            "text/plain": [
              "360"
            ]
          },
          "metadata": {},
          "execution_count": 15
        }
      ]
    },
    {
      "cell_type": "code",
      "source": [
        "from sklearn.linear_model import LogisticRegression\n",
        "model = LogisticRegression()"
      ],
      "metadata": {
        "id": "zbHyCEpYHs7T"
      },
      "execution_count": 17,
      "outputs": []
    },
    {
      "cell_type": "code",
      "source": [
        "model.fit(X_train, y_train)"
      ],
      "metadata": {
        "colab": {
          "base_uri": "https://localhost:8080/"
        },
        "id": "5omgVb0AHz7V",
        "outputId": "44621203-4dd5-4a8f-ea97-b65089264fa1"
      },
      "execution_count": 18,
      "outputs": [
        {
          "output_type": "stream",
          "name": "stderr",
          "text": [
            "/usr/local/lib/python3.7/dist-packages/sklearn/linear_model/_logistic.py:818: ConvergenceWarning: lbfgs failed to converge (status=1):\n",
            "STOP: TOTAL NO. of ITERATIONS REACHED LIMIT.\n",
            "\n",
            "Increase the number of iterations (max_iter) or scale the data as shown in:\n",
            "    https://scikit-learn.org/stable/modules/preprocessing.html\n",
            "Please also refer to the documentation for alternative solver options:\n",
            "    https://scikit-learn.org/stable/modules/linear_model.html#logistic-regression\n",
            "  extra_warning_msg=_LOGISTIC_SOLVER_CONVERGENCE_MSG,\n"
          ]
        },
        {
          "output_type": "execute_result",
          "data": {
            "text/plain": [
              "LogisticRegression()"
            ]
          },
          "metadata": {},
          "execution_count": 18
        }
      ]
    },
    {
      "cell_type": "code",
      "source": [
        "model.score(X_test, y_test)"
      ],
      "metadata": {
        "colab": {
          "base_uri": "https://localhost:8080/"
        },
        "id": "Vm5YtZB2IMjM",
        "outputId": "0880dcb3-e175-4fc3-fa4d-3784ce9518df"
      },
      "execution_count": 19,
      "outputs": [
        {
          "output_type": "execute_result",
          "data": {
            "text/plain": [
              "0.9583333333333334"
            ]
          },
          "metadata": {},
          "execution_count": 19
        }
      ]
    },
    {
      "cell_type": "markdown",
      "source": [
        "**Picking a random sample to test against**"
      ],
      "metadata": {
        "id": "DiOE8bQQIiDa"
      }
    },
    {
      "cell_type": "code",
      "source": [
        "plt.matshow(digits.images[67])"
      ],
      "metadata": {
        "colab": {
          "base_uri": "https://localhost:8080/",
          "height": 292
        },
        "id": "tOKqhKmnIUPU",
        "outputId": "52f82c7a-3b78-4a04-94c3-8c3d0a7f3e8b"
      },
      "execution_count": 20,
      "outputs": [
        {
          "output_type": "execute_result",
          "data": {
            "text/plain": [
              "<matplotlib.image.AxesImage at 0x7f342cd6f650>"
            ]
          },
          "metadata": {},
          "execution_count": 20
        },
        {
          "output_type": "display_data",
          "data": {
            "text/plain": [
              "<Figure size 288x288 with 1 Axes>"
            ],
            "image/png": "[encoded data removed]"
          },
          "metadata": {
            "needs_background": "light"
          }
        }
      ]
    },
    {
      "cell_type": "code",
      "source": [
        "digits.target[67]"
      ],
      "metadata": {
        "colab": {
          "base_uri": "https://localhost:8080/"
        },
        "id": "ogJGiAsKIehz",
        "outputId": "dcd97ff0-9d18-451f-be33-81392c9ce04f"
      },
      "execution_count": 21,
      "outputs": [
        {
          "output_type": "execute_result",
          "data": {
            "text/plain": [
              "6"
            ]
          },
          "metadata": {},
          "execution_count": 21
        }
      ]
    },
    {
      "cell_type": "code",
      "source": [
        "# Testing model to see if it can predit the above sample\n",
        "\n",
        "model.predict([digits.data[67]])"
      ],
      "metadata": {
        "colab": {
          "base_uri": "https://localhost:8080/"
        },
        "id": "eNqpvoSlIl-k",
        "outputId": "be45caaa-2985-4d56-bc99-3cd496c6728f"
      },
      "execution_count": 23,
      "outputs": [
        {
          "output_type": "execute_result",
          "data": {
            "text/plain": [
              "array([6])"
            ]
          },
          "metadata": {},
          "execution_count": 23
        }
      ]
    },
    {
      "cell_type": "code",
      "source": [
        "model.predict(digits.data[0:5])"
      ],
      "metadata": {
        "colab": {
          "base_uri": "https://localhost:8080/"
        },
        "id": "Q90kN4Y5I4-w",
        "outputId": "57e7283e-6469-4ce4-f4b5-ab306a54c8c3"
      },
      "execution_count": 24,
      "outputs": [
        {
          "output_type": "execute_result",
          "data": {
            "text/plain": [
              "array([0, 1, 2, 3, 4])"
            ]
          },
          "metadata": {},
          "execution_count": 24
        }
      ]
    },
    {
      "cell_type": "markdown",
      "source": [
        "**Creating a confusion matrix to determine where model is failing**"
      ],
      "metadata": {
        "id": "FBadHOjKJI6r"
      }
    },
    {
      "cell_type": "code",
      "source": [
        "y_predicted = model.predict(X_test)\n",
        "from sklearn.metrics import confusion_matrix\n",
        "\n",
        "cm = confusion_matrix(y_test, y_predicted)\n",
        "cm\n"
      ],
      "metadata": {
        "colab": {
          "base_uri": "https://localhost:8080/"
        },
        "id": "YbyT00vsJMOF",
        "outputId": "0d31c79b-d16a-4cab-f16e-cb8e8b4b5801"
      },
      "execution_count": 25,
      "outputs": [
        {
          "output_type": "execute_result",
          "data": {
            "text/plain": [
              "array([[31,  0,  1,  0,  0,  0,  0,  0,  0,  0],\n",
              "       [ 0, 42,  0,  0,  0,  0,  0,  0,  0,  1],\n",
              "       [ 0,  0, 37,  0,  0,  0,  0,  0,  0,  0],\n",
              "       [ 0,  0,  0, 35,  0,  1,  0,  0,  0,  0],\n",
              "       [ 0,  1,  0,  0, 36,  0,  0,  1,  0,  0],\n",
              "       [ 0,  0,  0,  0,  0, 37,  1,  0,  0,  1],\n",
              "       [ 0,  0,  0,  0,  0,  0, 23,  0,  0,  0],\n",
              "       [ 0,  0,  0,  0,  0,  0,  0, 30,  1,  0],\n",
              "       [ 1,  1,  0,  1,  2,  1,  0,  0, 35,  0],\n",
              "       [ 0,  0,  0,  0,  0,  0,  0,  0,  1, 39]])"
            ]
          },
          "metadata": {},
          "execution_count": 25
        }
      ]
    },
    {
      "cell_type": "code",
      "source": [
        "#Test the model\n",
        "predictions = model.predict(X_test)\n",
        "print(predictions)# printing predictions\n",
        "\n",
        "print()# Printing new line\n",
        "\n",
        "#Check precision, recall, f1-score\n",
        "print( classification_report(y_test, predictions) )"
      ],
      "metadata": {
        "colab": {
          "base_uri": "https://localhost:8080/"
        },
        "id": "Eg65IgGTKQPD",
        "outputId": "ebfd93aa-fe20-4504-8d65-ac5d34c312b2"
      },
      "execution_count": 33,
      "outputs": [
        {
          "output_type": "stream",
          "name": "stdout",
          "text": [
            "[3 6 9 5 1 5 5 1 0 5 1 7 5 0 2 0 5 9 3 1 8 2 8 9 7 1 3 0 9 4 8 2 9 3 0 0 3\n",
            " 6 0 4 4 0 1 2 5 4 8 5 3 8 8 7 0 9 0 0 4 8 9 4 2 7 4 3 8 3 1 2 2 0 3 7 3 2\n",
            " 9 7 2 8 2 9 3 9 3 4 9 3 1 2 2 6 9 0 2 9 1 7 3 2 1 9 5 1 7 1 1 5 3 8 7 2 0\n",
            " 2 9 3 9 0 8 2 2 7 9 5 8 9 6 6 5 7 1 8 0 8 6 5 8 4 5 9 8 4 2 6 9 1 8 2 1 4\n",
            " 1 1 7 9 4 7 0 1 5 1 8 8 9 6 3 3 2 5 2 2 1 5 7 1 0 0 6 3 1 6 0 7 4 6 1 8 5\n",
            " 3 6 9 3 8 2 2 2 4 5 1 8 9 4 1 9 6 0 9 8 6 0 7 3 5 5 5 3 5 3 8 7 0 1 6 3 9\n",
            " 8 4 7 9 3 7 8 5 9 8 7 7 2 1 6 8 8 4 1 4 3 6 5 6 4 0 2 6 5 7 1 2 4 7 4 4 5\n",
            " 8 0 5 3 1 7 0 8 8 2 3 5 3 8 0 2 4 1 3 8 5 8 4 7 2 5 7 3 4 0 0 2 9 7 2 0 6\n",
            " 6 2 4 1 2 7 5 9 2 9 9 2 6 3 1 0 5 4 6 1 9 9 9 4 7 4 1 4 1 7 5 4 4 4 6 3 1\n",
            " 1 4 1 1 7 9 4 8 9 4 3 4 5 0 5 9 8 4 1 1 5 9 3 5 9 1 5]\n",
            "\n",
            "              precision    recall  f1-score   support\n",
            "\n",
            "           0       0.97      0.97      0.97        32\n",
            "           1       0.95      0.98      0.97        43\n",
            "           2       0.97      1.00      0.99        37\n",
            "           3       0.97      0.97      0.97        36\n",
            "           4       0.95      0.95      0.95        38\n",
            "           5       0.95      0.95      0.95        39\n",
            "           6       0.96      1.00      0.98        23\n",
            "           7       0.97      0.97      0.97        31\n",
            "           8       0.95      0.85      0.90        41\n",
            "           9       0.95      0.97      0.96        40\n",
            "\n",
            "    accuracy                           0.96       360\n",
            "   macro avg       0.96      0.96      0.96       360\n",
            "weighted avg       0.96      0.96      0.96       360\n",
            "\n"
          ]
        }
      ]
    },
    {
      "cell_type": "code",
      "source": [
        "# Visualizing the above matrix. Prediction errors can be spotted clearly. \n",
        "\n",
        "import seaborn as sn\n",
        "plt.figure(figsize = (10,7))\n",
        "sn.heatmap(cm, annot=True)\n",
        "plt.xlabel('Predicted')\n",
        "plt.ylabel('Truth')"
      ],
      "metadata": {
        "colab": {
          "base_uri": "https://localhost:8080/",
          "height": 459
        },
        "id": "uJ2CvNWQJYkD",
        "outputId": "7c0eea7b-de2f-4eb5-a33f-b4703655a7d3"
      },
      "execution_count": 26,
      "outputs": [
        {
          "output_type": "execute_result",
          "data": {
            "text/plain": [
              "Text(69.0, 0.5, 'Truth')"
            ]
          },
          "metadata": {},
          "execution_count": 26
        },
        {
          "output_type": "display_data",
          "data": {
            "text/plain": [
              "<Figure size 720x504 with 2 Axes>"
            ],
            "image/png": "[encoded data removed]"
          },
          "metadata": {
            "needs_background": "light"
          }
        }
      ]
    }
  ]
}